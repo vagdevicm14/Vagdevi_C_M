{
  "nbformat": 4,
  "nbformat_minor": 0,
  "metadata": {
    "kernelspec": {
      "display_name": "Python 3",
      "language": "python",
      "name": "python3"
    },
    "language_info": {
      "codemirror_mode": {
        "name": "ipython",
        "version": 3
      },
      "file_extension": ".py",
      "mimetype": "text/x-python",
      "name": "python",
      "nbconvert_exporter": "python",
      "pygments_lexer": "ipython3",
      "version": "3.7.4"
    },
    "colab": {
      "name": "prog 2.ipynb",
      "provenance": []
    }
  },
  "cells": [
    {
      "cell_type": "code",
      "metadata": {
        "id": "4r0h97hRx_2b"
      },
      "source": [
        "import pandas as pd \n",
        "import numpy as np\n"
      ],
      "execution_count": null,
      "outputs": []
    },
    {
      "cell_type": "code",
      "metadata": {
        "id": "7z6j5ipLx_2f"
      },
      "source": [
        "data = pd.read_csv('play.csv') \n",
        "concept = np.array(data)[:,:-1] \n",
        "target = np.array(data)[:,-1]\n"
      ],
      "execution_count": null,
      "outputs": []
    },
    {
      "cell_type": "code",
      "metadata": {
        "id": "RuYJA59fx_2g",
        "outputId": "20c4a135-92b5-4e8f-fa4e-93f069e561a8"
      },
      "source": [
        "data.head()"
      ],
      "execution_count": null,
      "outputs": [
        {
          "output_type": "execute_result",
          "data": {
            "text/html": [
              "<div>\n",
              "<style scoped>\n",
              "    .dataframe tbody tr th:only-of-type {\n",
              "        vertical-align: middle;\n",
              "    }\n",
              "\n",
              "    .dataframe tbody tr th {\n",
              "        vertical-align: top;\n",
              "    }\n",
              "\n",
              "    .dataframe thead th {\n",
              "        text-align: right;\n",
              "    }\n",
              "</style>\n",
              "<table border=\"1\" class=\"dataframe\">\n",
              "  <thead>\n",
              "    <tr style=\"text-align: right;\">\n",
              "      <th></th>\n",
              "      <th>sky</th>\n",
              "      <th>temp</th>\n",
              "      <th>humid</th>\n",
              "      <th>wind</th>\n",
              "      <th>water</th>\n",
              "      <th>forcast</th>\n",
              "      <th>play</th>\n",
              "    </tr>\n",
              "  </thead>\n",
              "  <tbody>\n",
              "    <tr>\n",
              "      <td>0</td>\n",
              "      <td>sunny</td>\n",
              "      <td>warm</td>\n",
              "      <td>normal</td>\n",
              "      <td>strong</td>\n",
              "      <td>warm</td>\n",
              "      <td>same</td>\n",
              "      <td>yes</td>\n",
              "    </tr>\n",
              "    <tr>\n",
              "      <td>1</td>\n",
              "      <td>sunny</td>\n",
              "      <td>warm</td>\n",
              "      <td>high</td>\n",
              "      <td>strong</td>\n",
              "      <td>warm</td>\n",
              "      <td>same</td>\n",
              "      <td>yes</td>\n",
              "    </tr>\n",
              "    <tr>\n",
              "      <td>2</td>\n",
              "      <td>rainy</td>\n",
              "      <td>cold</td>\n",
              "      <td>high</td>\n",
              "      <td>strong</td>\n",
              "      <td>warm</td>\n",
              "      <td>same</td>\n",
              "      <td>no</td>\n",
              "    </tr>\n",
              "    <tr>\n",
              "      <td>3</td>\n",
              "      <td>sunny</td>\n",
              "      <td>warm</td>\n",
              "      <td>high</td>\n",
              "      <td>strong</td>\n",
              "      <td>cool</td>\n",
              "      <td>change</td>\n",
              "      <td>yes</td>\n",
              "    </tr>\n",
              "  </tbody>\n",
              "</table>\n",
              "</div>"
            ],
            "text/plain": [
              "     sky  temp   humid    wind water forcast play\n",
              "0  sunny  warm  normal  strong  warm    same  yes\n",
              "1  sunny  warm    high  strong  warm    same  yes\n",
              "2  rainy  cold    high  strong  warm    same   no\n",
              "3  sunny  warm    high  strong  cool  change  yes"
            ]
          },
          "metadata": {
            "tags": []
          },
          "execution_count": 4
        }
      ]
    },
    {
      "cell_type": "code",
      "metadata": {
        "id": "MrPcKApFx_2i"
      },
      "source": [
        "def train(con,tar): \n",
        "    specific = con[0].copy() \n",
        "    general=[['?' for x in range(len(specific))] for x in range(len(specific))] \n",
        "    for i,val in enumerate(con): \n",
        "        if tar[i] == 'yes': \n",
        "            for x in range(len(specific)): \n",
        "                if val[x] != specific[x]: \n",
        "                    specific[x] = '?' \n",
        "                    general[x][x] = '?' \n",
        "        else: \n",
        "            for x in range(len(specific)): \n",
        "                if val[x] != specific[x]: \n",
        "                    general[x][x] = specific[x] \n",
        "                else: \n",
        "                    general[x][x]='?' \n",
        "        print(\"Iteration[\"+ str(i+1) + \"]\") \n",
        "        print(\"Specific: \"+str(specific)) \n",
        "        print(\"General: \"+str(general)+\"\\n\\n\") \n",
        "    general =[general[i] for i,val in enumerate(general) if val != ['?' for x in range(len(specific))]] \n",
        "    return specific, general"
      ],
      "execution_count": null,
      "outputs": []
    },
    {
      "cell_type": "code",
      "metadata": {
        "id": "o-sMi6bax_2k",
        "outputId": "513d40d0-ef79-4c79-d906-bfd183710bd8"
      },
      "source": [
        "specific,general = train(concept,target) \n",
        "print(\"--------Final hypothesis-------\") \n",
        "print(\"Specific hypothesis: \" +str(specific)) \n",
        "print(\"General hypothses: \"+ str(general))"
      ],
      "execution_count": null,
      "outputs": [
        {
          "output_type": "stream",
          "text": [
            "Iteration[1]\n",
            "Specific: ['sunny' 'warm' 'normal' 'strong' 'warm' 'same']\n",
            "General: [['?', '?', '?', '?', '?', '?'], ['?', '?', '?', '?', '?', '?'], ['?', '?', '?', '?', '?', '?'], ['?', '?', '?', '?', '?', '?'], ['?', '?', '?', '?', '?', '?'], ['?', '?', '?', '?', '?', '?']]\n",
            "\n",
            "\n",
            "Iteration[2]\n",
            "Specific: ['sunny' 'warm' '?' 'strong' 'warm' 'same']\n",
            "General: [['?', '?', '?', '?', '?', '?'], ['?', '?', '?', '?', '?', '?'], ['?', '?', '?', '?', '?', '?'], ['?', '?', '?', '?', '?', '?'], ['?', '?', '?', '?', '?', '?'], ['?', '?', '?', '?', '?', '?']]\n",
            "\n",
            "\n",
            "Iteration[3]\n",
            "Specific: ['sunny' 'warm' '?' 'strong' 'warm' 'same']\n",
            "General: [['sunny', '?', '?', '?', '?', '?'], ['?', 'warm', '?', '?', '?', '?'], ['?', '?', '?', '?', '?', '?'], ['?', '?', '?', '?', '?', '?'], ['?', '?', '?', '?', '?', '?'], ['?', '?', '?', '?', '?', '?']]\n",
            "\n",
            "\n",
            "Iteration[4]\n",
            "Specific: ['sunny' 'warm' '?' 'strong' '?' '?']\n",
            "General: [['sunny', '?', '?', '?', '?', '?'], ['?', 'warm', '?', '?', '?', '?'], ['?', '?', '?', '?', '?', '?'], ['?', '?', '?', '?', '?', '?'], ['?', '?', '?', '?', '?', '?'], ['?', '?', '?', '?', '?', '?']]\n",
            "\n",
            "\n",
            "--------Final hypothesis-------\n",
            "Specific hypothesis: ['sunny' 'warm' '?' 'strong' '?' '?']\n",
            "General hypothses: [['sunny', '?', '?', '?', '?', '?'], ['?', 'warm', '?', '?', '?', '?']]\n"
          ],
          "name": "stdout"
        }
      ]
    },
    {
      "cell_type": "code",
      "metadata": {
        "id": "zPwzboCix_2l"
      },
      "source": [
        ""
      ],
      "execution_count": null,
      "outputs": []
    }
  ]
}