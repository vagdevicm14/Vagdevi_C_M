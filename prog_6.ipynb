{
  "nbformat": 4,
  "nbformat_minor": 0,
  "metadata": {
    "kernelspec": {
      "display_name": "Python 3",
      "language": "python",
      "name": "python3"
    },
    "language_info": {
      "codemirror_mode": {
        "name": "ipython",
        "version": 3
      },
      "file_extension": ".py",
      "mimetype": "text/x-python",
      "name": "python",
      "nbconvert_exporter": "python",
      "pygments_lexer": "ipython3",
      "version": "3.7.4"
    },
    "colab": {
      "name": "prog 6.ipynb",
      "provenance": []
    }
  },
  "cells": [
    {
      "cell_type": "code",
      "metadata": {
        "id": "fa4EZWqKyZX9"
      },
      "source": [
        "import numpy as np\n",
        "import pandas as pd"
      ],
      "execution_count": null,
      "outputs": []
    },
    {
      "cell_type": "code",
      "metadata": {
        "id": "DnBgtR_dyZYB"
      },
      "source": [
        "from sklearn import tree, metrics, model_selection, preprocessing \n",
        "from sklearn.neighbors import KNeighborsClassifier\n",
        "from sklearn.metrics import confusion_matrix"
      ],
      "execution_count": null,
      "outputs": []
    },
    {
      "cell_type": "code",
      "metadata": {
        "id": "SQ3Tv1HAyZYC"
      },
      "source": [
        "df = pd.read_csv('iris.csv')"
      ],
      "execution_count": null,
      "outputs": []
    },
    {
      "cell_type": "code",
      "metadata": {
        "id": "Lmp_kz4LyZYD"
      },
      "source": [
        "y = df.iloc[:,-1].values\n",
        "x = df.iloc[:,0:4].values"
      ],
      "execution_count": null,
      "outputs": []
    },
    {
      "cell_type": "code",
      "metadata": {
        "id": "kQ94FN6XyZYD",
        "outputId": "e366335f-2794-41d0-b716-4b314e00192e"
      },
      "source": [
        "x_train, x_test, y_train, y_test = model_selection.train_test_split(x, y, test_size = 0.2)\n",
        "\n",
        "classifier = KNeighborsClassifier(n_neighbors=3)\n",
        "classifier.fit(x_train,y_train)\n",
        "\n",
        "y_predict = classifier.predict(x_test)\n",
        "\n",
        "acuuracy = metrics.accuracy_score(y_test, y_predict)\n",
        "acuuracy\n",
        "\n",
        "confusion_matrix(y_test, y_predict)"
      ],
      "execution_count": null,
      "outputs": [
        {
          "output_type": "execute_result",
          "data": {
            "text/plain": [
              "array([[ 6,  0,  0],\n",
              "       [ 0, 12,  1],\n",
              "       [ 0,  0, 11]], dtype=int64)"
            ]
          },
          "metadata": {
            "tags": []
          },
          "execution_count": 5
        }
      ]
    },
    {
      "cell_type": "code",
      "metadata": {
        "id": "zs0FOW6tyZYG"
      },
      "source": [
        ""
      ],
      "execution_count": null,
      "outputs": []
    }
  ]
}