{
  "nbformat": 4,
  "nbformat_minor": 0,
  "metadata": {
    "kernelspec": {
      "display_name": "Python 3",
      "language": "python",
      "name": "python3"
    },
    "language_info": {
      "codemirror_mode": {
        "name": "ipython",
        "version": 3
      },
      "file_extension": ".py",
      "mimetype": "text/x-python",
      "name": "python",
      "nbconvert_exporter": "python",
      "pygments_lexer": "ipython3",
      "version": "3.7.4"
    },
    "colab": {
      "name": "prog 1.ipynb",
      "provenance": []
    }
  },
  "cells": [
    {
      "cell_type": "code",
      "metadata": {
        "id": "IpbT2qWJwXRJ"
      },
      "source": [
        "import pandas as pd \n",
        "import numpy as np"
      ],
      "execution_count": null,
      "outputs": []
    },
    {
      "cell_type": "code",
      "metadata": {
        "id": "dDFCBIafwXRP"
      },
      "source": [
        "data = pd.read_csv('play.csv')"
      ],
      "execution_count": null,
      "outputs": []
    },
    {
      "cell_type": "code",
      "metadata": {
        "id": "mSGCUHBPwXRQ",
        "outputId": "5c88408a-34ce-444c-822d-392e5ebace7d"
      },
      "source": [
        "data.head()"
      ],
      "execution_count": null,
      "outputs": [
        {
          "output_type": "execute_result",
          "data": {
            "text/html": [
              "<div>\n",
              "<style scoped>\n",
              "    .dataframe tbody tr th:only-of-type {\n",
              "        vertical-align: middle;\n",
              "    }\n",
              "\n",
              "    .dataframe tbody tr th {\n",
              "        vertical-align: top;\n",
              "    }\n",
              "\n",
              "    .dataframe thead th {\n",
              "        text-align: right;\n",
              "    }\n",
              "</style>\n",
              "<table border=\"1\" class=\"dataframe\">\n",
              "  <thead>\n",
              "    <tr style=\"text-align: right;\">\n",
              "      <th></th>\n",
              "      <th>sky</th>\n",
              "      <th>temp</th>\n",
              "      <th>humid</th>\n",
              "      <th>wind</th>\n",
              "      <th>water</th>\n",
              "      <th>forcast</th>\n",
              "      <th>play</th>\n",
              "    </tr>\n",
              "  </thead>\n",
              "  <tbody>\n",
              "    <tr>\n",
              "      <td>0</td>\n",
              "      <td>sunny</td>\n",
              "      <td>warm</td>\n",
              "      <td>normal</td>\n",
              "      <td>strong</td>\n",
              "      <td>warm</td>\n",
              "      <td>same</td>\n",
              "      <td>yes</td>\n",
              "    </tr>\n",
              "    <tr>\n",
              "      <td>1</td>\n",
              "      <td>sunny</td>\n",
              "      <td>warm</td>\n",
              "      <td>high</td>\n",
              "      <td>strong</td>\n",
              "      <td>warm</td>\n",
              "      <td>same</td>\n",
              "      <td>yes</td>\n",
              "    </tr>\n",
              "    <tr>\n",
              "      <td>2</td>\n",
              "      <td>rainy</td>\n",
              "      <td>cold</td>\n",
              "      <td>high</td>\n",
              "      <td>strong</td>\n",
              "      <td>warm</td>\n",
              "      <td>same</td>\n",
              "      <td>no</td>\n",
              "    </tr>\n",
              "    <tr>\n",
              "      <td>3</td>\n",
              "      <td>sunny</td>\n",
              "      <td>warm</td>\n",
              "      <td>high</td>\n",
              "      <td>strong</td>\n",
              "      <td>cool</td>\n",
              "      <td>change</td>\n",
              "      <td>yes</td>\n",
              "    </tr>\n",
              "  </tbody>\n",
              "</table>\n",
              "</div>"
            ],
            "text/plain": [
              "     sky  temp   humid    wind water forcast play\n",
              "0  sunny  warm  normal  strong  warm    same  yes\n",
              "1  sunny  warm    high  strong  warm    same  yes\n",
              "2  rainy  cold    high  strong  warm    same   no\n",
              "3  sunny  warm    high  strong  cool  change  yes"
            ]
          },
          "metadata": {
            "tags": []
          },
          "execution_count": 4
        }
      ]
    },
    {
      "cell_type": "code",
      "metadata": {
        "id": "2RZ7AT0QwXRS"
      },
      "source": [
        "concept = np.array(data)[:,:-1] \n",
        "target = np.array(data)[:,-1]"
      ],
      "execution_count": null,
      "outputs": []
    },
    {
      "cell_type": "code",
      "metadata": {
        "id": "uyxjZAqewXRS",
        "outputId": "4cc0a01a-654e-43da-ffdc-cf77ec9a06dc"
      },
      "source": [
        "def train(tar,con): \n",
        "    for i,val in enumerate(tar): \n",
        "        if val =='yes': \n",
        "            specific = con[i].copy() \n",
        "        break\n",
        "    for i,val in enumerate(con): \n",
        "        if tar[i] =='yes': \n",
        "            for x in range(len(specific)): \n",
        "                if val[x] != specific[x]: \n",
        "                    specific[x] = '?' \n",
        "                else: \n",
        "                    pass \n",
        "        print(\"specific [\",(i+1),\"]:\",str(specific)) \n",
        "    return specific\n",
        "print(train(target,concept))\n"
      ],
      "execution_count": null,
      "outputs": [
        {
          "output_type": "stream",
          "text": [
            "specific [ 1 ]: ['sunny' 'warm' 'normal' 'strong' 'warm' 'same']\n",
            "specific [ 2 ]: ['sunny' 'warm' '?' 'strong' 'warm' 'same']\n",
            "specific [ 3 ]: ['sunny' 'warm' '?' 'strong' 'warm' 'same']\n",
            "specific [ 4 ]: ['sunny' 'warm' '?' 'strong' '?' '?']\n",
            "['sunny' 'warm' '?' 'strong' '?' '?']\n"
          ],
          "name": "stdout"
        }
      ]
    },
    {
      "cell_type": "code",
      "metadata": {
        "id": "s6oknZOIwXRU"
      },
      "source": [
        ""
      ],
      "execution_count": null,
      "outputs": []
    }
  ]
}